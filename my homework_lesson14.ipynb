{
 "cells": [
  {
   "cell_type": "code",
   "execution_count": null,
   "metadata": {},
   "outputs": [],
   "source": [
    "# Create a class Product with properties name, price, and quantity.\n",
    "# Create a child class Book that inherits from Product and adds a property author and a method called read that prints information about the book."
   ]
  },
  {
   "cell_type": "code",
   "execution_count": 20,
   "metadata": {},
   "outputs": [
    {
     "name": "stdout",
     "output_type": "stream",
     "text": [
      "The book \"Making Sense\" by Sam Harris costs 34.99$ and there are 118 copies available.\n"
     ]
    }
   ],
   "source": [
    "class Product:\n",
    "    def __init__(self, name, price, quantity):\n",
    "        self.name = name\n",
    "        self.price = price\n",
    "        self.quantity = quantity\n",
    "        \n",
    "class Book(Product):\n",
    "    def __init__(self, name, price, quantity, author):\n",
    "        super().__init__(name, price, quantity)\n",
    "        self.author = author\n",
    "    \n",
    "    def read(self):\n",
    "        print(f'The book \"{self.name}\" by {self.author} costs {self.price}$ and there are {self.quantity} copies available.')\n",
    "        \n",
    "book1 = Book('Making Sense', 34.99, 118, 'Sam Harris')\n",
    "book1.read()"
   ]
  },
  {
   "cell_type": "code",
   "execution_count": null,
   "metadata": {},
   "outputs": [],
   "source": [
    "# Create a class Restaurant with properties name, cuisine, and menu.\n",
    "# The menu property should be a dictionary with keys being the dish name and values being the price.\n",
    "# Create a child class FastFood that inherits from Restaurant and adds a property drive_thru (a boolean indicating whether the restaurant has a drive-thru or not) and a method called order which takes in the dish name and quantity and returns the total cost of the order.\n",
    "# The method should also update the menu dictionary to subtract the ordered quantity from the available quantity.\n",
    "# If the dish is not available or if the requested quantity is greater than the available quantity, the method should return a message indicating that the order cannot be fulfilled."
   ]
  },
  {
   "cell_type": "code",
   "execution_count": 24,
   "metadata": {},
   "outputs": [],
   "source": [
    "class Restaurant:\n",
    "    def __init__(self, name, cuisine, menu):\n",
    "        self.name = name\n",
    "        self.cuisine = cuisine\n",
    "        self.menu = menu\n",
    "        \n",
    "class FastFood(Restaurant):\n",
    "    def __init__(self, name, cuisine, menu, drive_thru):\n",
    "        super().__init__(name, cuisine, menu)\n",
    "        self.drive_thru = drive_thru\n",
    "        \n",
    "    def order(self, dish_name, quantity):\n",
    "        if dish_name not in self.menu:\n",
    "            return \"Dish not available\"\n",
    "        \n",
    "        dish = self.menu[dish_name]\n",
    "        if quantity > dish[\"quantity\"]:\n",
    "            return \"Requested quantity not available\"\n",
    "        \n",
    "        dish[\"quantity\"] -= quantity\n",
    "        \n",
    "        return dish[\"price\"] * quantity"
   ]
  }
 ],
 "metadata": {
  "kernelspec": {
   "display_name": "Python 3",
   "language": "python",
   "name": "python3"
  },
  "language_info": {
   "codemirror_mode": {
    "name": "ipython",
    "version": 3
   },
   "file_extension": ".py",
   "mimetype": "text/x-python",
   "name": "python",
   "nbconvert_exporter": "python",
   "pygments_lexer": "ipython3",
   "version": "3.10.0"
  },
  "orig_nbformat": 4
 },
 "nbformat": 4,
 "nbformat_minor": 2
}
